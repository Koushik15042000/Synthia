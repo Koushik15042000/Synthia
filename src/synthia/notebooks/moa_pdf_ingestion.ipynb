{
 "cells": [
  {
   "cell_type": "code",
   "execution_count": 3,
   "metadata": {},
   "outputs": [],
   "source": [
    "import pandas as pd\n",
    "import requests\n",
    "from bs4 import BeautifulSoup\n",
    "import os\n",
    "import re\n",
    "from urllib.parse import urljoin\n",
    "import time\n",
    "import string\n",
    "from dotenv import load_dotenv, find_dotenv"
   ]
  },
  {
   "cell_type": "code",
   "execution_count": 11,
   "metadata": {},
   "outputs": [
    {
     "data": {
      "text/plain": [
       "True"
      ]
     },
     "execution_count": 11,
     "metadata": {},
     "output_type": "execute_result"
    }
   ],
   "source": [
    "load_dotenv(find_dotenv())"
   ]
  },
  {
   "cell_type": "code",
   "execution_count": 12,
   "metadata": {},
   "outputs": [],
   "source": [
    "KAFKA_BOOTSTRAP_SERVER = os.getenv(\"KAFKA_BOOTSTRAP_SERVER\")\n",
    "\n",
    "KAFKA_REST_ENDPOINT = os.getenv(\"KAFKA_REST_ENDPOINT\")\n",
    "\n",
    "KAFKA_TOPIC = os.getenv(\"KAFKA_TOPIC\")\n",
    "\n",
    "DIRECTORY_TO_WATCH = os.getenv(\"WATCH_DIRECTORY\")\n",
    "\n",
    "SERVICE_ACCOUNT_KEY = os.getenv(\"GCS_KEY_PATH\")\n",
    "\n",
    "GCP_PROJECT_ID = os.getenv(\"GCP_PROJECT_ID\")\n",
    "\n",
    "GCS_BUCKET_NAME = os.getenv(\"GCS_BUCKET_NAME\")"
   ]
  },
  {
   "cell_type": "code",
   "execution_count": 7,
   "metadata": {},
   "outputs": [],
   "source": [
    "# Specify the Metadata File Path\n",
    "file_path = './data/moa_metadata.csv'\n",
    "\n",
    "# Read the CSV file\n",
    "moa_metadata = pd.read_csv(file_path)\n",
    "\n",
    "# Extract the MOA_URL links into a list\n",
    "moa_url_list = moa_metadata['Page_URL'].tolist()"
   ]
  },
  {
   "cell_type": "code",
   "execution_count": 8,
   "metadata": {},
   "outputs": [
    {
     "data": {
      "text/plain": [
       "['https://www.sanjoseca.gov/your-government/departments-offices/office-of-the-city-manager/employee-relations/labor-relations-information/bargaining-units-labor-contract-info/abmei',\n",
       " 'https://www.sanjoseca.gov/your-government/departments-offices/office-of-the-city-manager/employee-relations/labor-relations-information/bargaining-units-labor-contract-info/aea',\n",
       " 'https://www.sanjoseca.gov/your-government/departments-offices/office-of-the-city-manager/employee-relations/labor-relations-information/bargaining-units-labor-contract-info/alp',\n",
       " 'https://www.sanjoseca.gov/your-government/departments-offices/office-of-the-city-manager/employee-relations/labor-relations-information/bargaining-units-labor-contract-info/amsp',\n",
       " 'https://www.sanjoseca.gov/your-government/departments-offices/office-of-the-city-manager/employee-relations/labor-relations-information/bargaining-units-labor-contract-info/camp',\n",
       " 'https://www.sanjoseca.gov/your-government/departments-offices/office-of-the-city-manager/employee-relations/labor-relations-information/bargaining-units-labor-contract-info/iaff',\n",
       " 'https://www.sanjoseca.gov/your-government/departments-offices/office-of-the-city-manager/employee-relations/labor-relations-information/bargaining-units-labor-contract-info/ibew',\n",
       " 'https://www.sanjoseca.gov/your-government/departments-offices/office-of-the-city-manager/employee-relations/labor-relations-information/bargaining-units-labor-contract-info/mef',\n",
       " 'https://www.sanjoseca.gov/your-government/departments-offices/office-of-the-city-manager/employee-relations/labor-relations-information/bargaining-units-labor-contract-info/oe-3',\n",
       " 'https://www.sanjoseca.gov/your-government/departments-offices/office-of-the-city-manager/employee-relations/labor-relations-information/bargaining-units-labor-contract-info/sjpda',\n",
       " 'https://www.sanjoseca.gov/your-government/departments-offices/office-of-the-city-manager/employee-relations/labor-relations-information/bargaining-units-labor-contract-info/poa',\n",
       " 'https://www.sanjoseca.gov/your-government/departments-offices/office-of-the-city-manager/employee-relations/labor-relations-information/bargaining-units-labor-contract-info/popra']"
      ]
     },
     "execution_count": 8,
     "metadata": {},
     "output_type": "execute_result"
    }
   ],
   "source": [
    "moa_url_list"
   ]
  },
  {
   "cell_type": "code",
   "execution_count": 52,
   "metadata": {},
   "outputs": [],
   "source": [
    "# Function to sanitize filenames\n",
    "def sanitize_filename(filename):\n",
    "    valid_chars = \"-_.() %s%s\" % (string.ascii_letters, string.digits)\n",
    "    return ''.join(c for c in filename if c in valid_chars)"
   ]
  },
  {
   "cell_type": "code",
   "execution_count": 53,
   "metadata": {},
   "outputs": [],
   "source": [
    "# Function to download PDF from a given URL\n",
    "def download_pdf(url, base_url, save_path, session):\n",
    "    url = urljoin(base_url, url)\n",
    "    filename = sanitize_filename(save_path) + '.pdf'\n",
    "    full_save_path = os.path.join(pdf_directory, filename)\n",
    "\n",
    "    response = session.get(url, stream=True)\n",
    "    if response.status_code == 200:\n",
    "        with open(full_save_path, 'wb') as f:\n",
    "            for chunk in response.iter_content(chunk_size=8192):\n",
    "                f.write(chunk)\n",
    "        print(f\"PDF downloaded: {full_save_path}\")\n",
    "    else:\n",
    "        print(f\"Failed to download PDF from {url} - Status Code: {response.status_code}\")"
   ]
  },
  {
   "cell_type": "code",
   "execution_count": 54,
   "metadata": {},
   "outputs": [],
   "source": [
    "# Directory to save PDFs\n",
    "pdf_directory = './data/'\n",
    "if not os.path.exists(pdf_directory):\n",
    "    os.makedirs(pdf_directory)\n",
    "\n",
    "# Base URL\n",
    "base_url = 'https://www.sanjoseca.gov'"
   ]
  },
  {
   "cell_type": "code",
   "execution_count": 55,
   "metadata": {},
   "outputs": [
    {
     "name": "stdout",
     "output_type": "stream",
     "text": [
      "PDF downloaded: ./data/Association of Building Mechanical and Electrical Inspectors (ABMEI) MOA.pdf\n",
      "PDF downloaded: ./data/Association of Building Mechanical and Electrical Inspectors (ABMEI) MOA.pdf\n",
      "PDF downloaded: ./data/Association of Engineers and Architects IFTPE Local 21 Units 4142 MOA.pdf\n",
      "PDF downloaded: ./data/Association of Engineers and Architects IFPTE Local 21 Unit 43 MOA.pdf\n",
      "PDF downloaded: ./data/Association of Legal Professionals of San Jose (ALP).pdf\n",
      "PDF downloaded: ./data/Association of Legal Professionals of San Jose (ALP).pdf\n",
      "PDF downloaded: ./data/Association of Maintenance Supervisory Personnel IFPTE Local 21 (AMSP) MOA.pdf\n",
      "PDF downloaded: ./data/City Association of Management Personnel IFPTE Local 21 (CAMP) MOA.pdf\n",
      "PDF downloaded: ./data/San Jos Fire Fighters - International Association of Firefighters (IAFF) Local 230 MOA.pdf\n",
      "PDF downloaded: ./data/San Jos Fire Fighters - International Association of Firefighters (IAFF) Local 230 MOA.pdf\n",
      "PDF downloaded: ./data/International Brotherhood of Electrical Workers (IBEW) Local No. 332 MOA.pdf\n",
      "PDF downloaded: ./data/International Brotherhood of Electrical Workers (IBEW) Local No. 332 MOA.pdf\n",
      "PDF downloaded: ./data/Municipal Employees Federation (MEF) AFSCME Local 101 MOA.pdf\n",
      "PDF downloaded: ./data/Municipal Employees Federation (MEF) Part Time Employee Reference Guide.pdf\n",
      "PDF downloaded: ./data/The International Union of Operating Engineers Local No. 3 (OE3) MOA.pdf\n",
      "PDF downloaded: ./data/The International Union of Operating Engineers Local No. 3 (OE3) MOA.pdf\n",
      "PDF downloaded: ./data/Municipal Employees Federation (MEF) AFSCME Local 101 MOA.pdf\n",
      "PDF downloaded: ./data/Municipal Employees Federation (MEF) AFSCME Local 101 MOA.pdf\n",
      "PDF downloaded: ./data/San Jose Police Officers Association (POA) MOA.pdf\n",
      "PDF downloaded: ./data/Promotional Memorandum of Agreement.pdf\n",
      "PDF downloaded: ./data/Sergeants Transfer Policy.pdf\n",
      "PDF downloaded: ./data/Officers Transfer Policy.pdf\n",
      "PDF downloaded: ./data/Overtime Staffing Plan.pdf\n",
      "PDF downloaded: ./data/Article 39 - Exempt Officers and Sergeants Modified Duty Program.pdf\n",
      "PDF downloaded: ./data/San Jose Police Officers Association (POA) MOA.pdf\n",
      "PDF downloaded: ./data/Promotional Memorandum of Agreement.pdf\n",
      "PDF downloaded: ./data/Sergeants Transfer Policy.pdf\n",
      "PDF downloaded: ./data/Officers Transfer Policy.pdf\n",
      "PDF downloaded: ./data/Overtime Staffing Plan.pdf\n",
      "PDF downloaded: ./data/Article 39 - Exempt Officers and Sergeants Modified Duty Program.pdf\n",
      "PDF downloaded: ./data/Tentative Agreement - Peace Officer Park Ranger Association (POPRA).pdf\n"
     ]
    }
   ],
   "source": [
    "# Start a session for requests\n",
    "session = requests.Session()\n",
    "session.headers.update({\n",
    "    'User-Agent': 'Mozilla/5.0 (Windows NT 10.0; Win64; x64) AppleWebKit/537.36 (KHTML, like Gecko) Chrome/58.0.3029.110 Safari/537.3'\n",
    "})\n",
    "\n",
    "# Regex pattern for matching 'Union Contract' in a case-insensitive manner\n",
    "pattern = re.compile('union contract', re.IGNORECASE)\n",
    "\n",
    "# Iterate over each MOA_URL\n",
    "for moa_url in moa_url_list:\n",
    "    try:\n",
    "        response = session.get(moa_url)\n",
    "        if response.status_code == 200:\n",
    "            soup = BeautifulSoup(response.text, 'html.parser')\n",
    "\n",
    "            # Find all potential headings or paragraphs\n",
    "            potential_headings = soup.find_all(['h1', 'h2', 'h3', 'h4', 'h5', 'h6', 'p'], string=pattern)\n",
    "\n",
    "            for heading in potential_headings:\n",
    "                next_siblings = heading.find_next_siblings(['p', 'ul'])\n",
    "                for sibling in next_siblings:\n",
    "                    if sibling.name == 'ul':\n",
    "                        for li in sibling.find_all('li'):\n",
    "                            a_tag = li.find('a')\n",
    "                            if a_tag and a_tag.get('href'):\n",
    "                                pdf_url = a_tag.get('href')\n",
    "                                pdf_text = a_tag.get_text(strip=True)\n",
    "                                download_pdf(pdf_url, base_url, pdf_text, session)\n",
    "                        break  # Break after processing each <ul> associated with the heading\n",
    "\n",
    "            # Sleep between requests\n",
    "            time.sleep(1)\n",
    "        else:\n",
    "            print(f\"Failed to get {moa_url} - Status Code: {response.status_code}\")\n",
    "            time.sleep(5)\n",
    "    except Exception as e:\n",
    "        print(f\"Error processing {moa_url}: {e}\")\n",
    "        time.sleep(10)"
   ]
  },
  {
   "cell_type": "code",
   "execution_count": 13,
   "metadata": {},
   "outputs": [
    {
     "name": "stdout",
     "output_type": "stream",
     "text": [
      "Requirement already satisfied: watchdog in c:\\users\\koush\\synthia_anaconda\\.venv\\lib\\site-packages (3.0.0)\n",
      "Requirement already satisfied: confluent-kafka in c:\\users\\koush\\synthia_anaconda\\.venv\\lib\\site-packages (2.3.0)\n"
     ]
    }
   ],
   "source": [
    "!pip install watchdog confluent-kafka"
   ]
  },
  {
   "cell_type": "code",
   "execution_count": 1,
   "metadata": {},
   "outputs": [
    {
     "name": "stdout",
     "output_type": "stream",
     "text": [
      "Collecting google-cloud-storage\n",
      "  Downloading google_cloud_storage-2.13.0-py2.py3-none-any.whl.metadata (6.1 kB)\n",
      "Collecting google-auth<3.0dev,>=2.23.3 (from google-cloud-storage)\n",
      "  Downloading google_auth-2.23.4-py2.py3-none-any.whl.metadata (4.7 kB)\n",
      "Collecting google-api-core!=2.0.*,!=2.1.*,!=2.2.*,!=2.3.0,<3.0.0dev,>=1.31.5 (from google-cloud-storage)\n",
      "  Downloading google_api_core-2.14.0-py3-none-any.whl.metadata (2.6 kB)\n",
      "Collecting google-cloud-core<3.0dev,>=2.3.0 (from google-cloud-storage)\n",
      "  Downloading google_cloud_core-2.3.3-py2.py3-none-any.whl.metadata (2.5 kB)\n",
      "Collecting google-resumable-media>=2.6.0 (from google-cloud-storage)\n",
      "  Downloading google_resumable_media-2.6.0-py2.py3-none-any.whl.metadata (2.1 kB)\n",
      "Requirement already satisfied: requests<3.0.0dev,>=2.18.0 in c:\\users\\koush\\synthia_anaconda\\.venv\\lib\\site-packages (from google-cloud-storage) (2.31.0)\n",
      "Collecting google-crc32c<2.0dev,>=1.0 (from google-cloud-storage)\n",
      "  Downloading google_crc32c-1.5.0-cp311-cp311-win_amd64.whl (27 kB)\n",
      "Collecting googleapis-common-protos<2.0.dev0,>=1.56.2 (from google-api-core!=2.0.*,!=2.1.*,!=2.2.*,!=2.3.0,<3.0.0dev,>=1.31.5->google-cloud-storage)\n",
      "  Downloading googleapis_common_protos-1.61.0-py2.py3-none-any.whl.metadata (1.5 kB)\n",
      "Requirement already satisfied: protobuf!=3.20.0,!=3.20.1,!=4.21.0,!=4.21.1,!=4.21.2,!=4.21.3,!=4.21.4,!=4.21.5,<5.0.0.dev0,>=3.19.5 in c:\\users\\koush\\synthia_anaconda\\.venv\\lib\\site-packages (from google-api-core!=2.0.*,!=2.1.*,!=2.2.*,!=2.3.0,<3.0.0dev,>=1.31.5->google-cloud-storage) (4.25.0)\n",
      "Requirement already satisfied: cachetools<6.0,>=2.0.0 in c:\\users\\koush\\synthia_anaconda\\.venv\\lib\\site-packages (from google-auth<3.0dev,>=2.23.3->google-cloud-storage) (5.3.2)\n",
      "Collecting pyasn1-modules>=0.2.1 (from google-auth<3.0dev,>=2.23.3->google-cloud-storage)\n",
      "  Downloading pyasn1_modules-0.3.0-py2.py3-none-any.whl (181 kB)\n",
      "     ---------------------------------------- 0.0/181.3 kB ? eta -:--:--\n",
      "     ------------- ------------------------- 61.4/181.3 kB 1.7 MB/s eta 0:00:01\n",
      "     ------------------- ------------------- 92.2/181.3 kB 1.3 MB/s eta 0:00:01\n",
      "     -------------------------------- ----- 153.6/181.3 kB 1.3 MB/s eta 0:00:01\n",
      "     -------------------------------------- 181.3/181.3 kB 1.2 MB/s eta 0:00:00\n",
      "Collecting rsa<5,>=3.1.4 (from google-auth<3.0dev,>=2.23.3->google-cloud-storage)\n",
      "  Downloading rsa-4.9-py3-none-any.whl (34 kB)\n",
      "Requirement already satisfied: charset-normalizer<4,>=2 in c:\\users\\koush\\synthia_anaconda\\.venv\\lib\\site-packages (from requests<3.0.0dev,>=2.18.0->google-cloud-storage) (3.3.2)\n",
      "Requirement already satisfied: idna<4,>=2.5 in c:\\users\\koush\\synthia_anaconda\\.venv\\lib\\site-packages (from requests<3.0.0dev,>=2.18.0->google-cloud-storage) (3.4)\n",
      "Requirement already satisfied: urllib3<3,>=1.21.1 in c:\\users\\koush\\synthia_anaconda\\.venv\\lib\\site-packages (from requests<3.0.0dev,>=2.18.0->google-cloud-storage) (2.0.7)\n",
      "Requirement already satisfied: certifi>=2017.4.17 in c:\\users\\koush\\synthia_anaconda\\.venv\\lib\\site-packages (from requests<3.0.0dev,>=2.18.0->google-cloud-storage) (2023.7.22)\n",
      "Collecting pyasn1<0.6.0,>=0.4.6 (from pyasn1-modules>=0.2.1->google-auth<3.0dev,>=2.23.3->google-cloud-storage)\n",
      "  Downloading pyasn1-0.5.0-py2.py3-none-any.whl (83 kB)\n",
      "     ---------------------------------------- 0.0/83.9 kB ? eta -:--:--\n",
      "     ---------------------------------------- 83.9/83.9 kB 2.3 MB/s eta 0:00:00\n",
      "Downloading google_cloud_storage-2.13.0-py2.py3-none-any.whl (121 kB)\n",
      "   ---------------------------------------- 0.0/121.1 kB ? eta -:--:--\n",
      "   ---------------------------------------- 121.1/121.1 kB 3.6 MB/s eta 0:00:00\n",
      "Downloading google_api_core-2.14.0-py3-none-any.whl (122 kB)\n",
      "   ---------------------------------------- 0.0/122.2 kB ? eta -:--:--\n",
      "   ---------------------------------------- 122.2/122.2 kB ? eta 0:00:00\n",
      "Downloading google_auth-2.23.4-py2.py3-none-any.whl (183 kB)\n",
      "   ---------------------------------------- 0.0/183.3 kB ? eta -:--:--\n",
      "   --------------------------------------- 183.3/183.3 kB 10.8 MB/s eta 0:00:00\n",
      "Downloading google_cloud_core-2.3.3-py2.py3-none-any.whl (29 kB)\n",
      "Downloading google_resumable_media-2.6.0-py2.py3-none-any.whl (80 kB)\n",
      "   ---------------------------------------- 0.0/80.3 kB ? eta -:--:--\n",
      "   ---------------------------------------- 80.3/80.3 kB 4.7 MB/s eta 0:00:00\n",
      "Downloading googleapis_common_protos-1.61.0-py2.py3-none-any.whl (230 kB)\n",
      "   ---------------------------------------- 0.0/230.9 kB ? eta -:--:--\n",
      "   ---------------------------------------- 230.9/230.9 kB ? eta 0:00:00\n",
      "Installing collected packages: pyasn1, googleapis-common-protos, google-crc32c, rsa, pyasn1-modules, google-resumable-media, google-auth, google-api-core, google-cloud-core, google-cloud-storage\n",
      "Successfully installed google-api-core-2.14.0 google-auth-2.23.4 google-cloud-core-2.3.3 google-cloud-storage-2.13.0 google-crc32c-1.5.0 google-resumable-media-2.6.0 googleapis-common-protos-1.61.0 pyasn1-0.5.0 pyasn1-modules-0.3.0 rsa-4.9\n"
     ]
    }
   ],
   "source": [
    "!pip install google-cloud-storage"
   ]
  },
  {
   "cell_type": "code",
   "execution_count": 15,
   "metadata": {},
   "outputs": [
    {
     "name": "stdout",
     "output_type": "stream",
     "text": [
      "New PDF detected: C:/Users/koush/Synthia_Anaconda/src/synthia/notebooks/data\\Article 39 - Exempt Officers and Sergeants Modified Duty Program.pdf\n",
      "File C:/Users/koush/Synthia_Anaconda/src/synthia/notebooks/data\\Article 39 - Exempt Officers and Sergeants Modified Duty Program.pdf uploaded to synthia_source_data.\n",
      "New PDF detected: C:/Users/koush/Synthia_Anaconda/src/synthia/notebooks/data\\Association of Building Mechanical and Electrical Inspectors (ABMEI) MOA.pdf\n",
      "File C:/Users/koush/Synthia_Anaconda/src/synthia/notebooks/data\\Association of Building Mechanical and Electrical Inspectors (ABMEI) MOA.pdf uploaded to synthia_source_data.\n",
      "New PDF detected: C:/Users/koush/Synthia_Anaconda/src/synthia/notebooks/data\\Association of Engineers and Architects IFPTE Local 21 Unit 43 MOA.pdf\n",
      "File C:/Users/koush/Synthia_Anaconda/src/synthia/notebooks/data\\Association of Engineers and Architects IFPTE Local 21 Unit 43 MOA.pdf uploaded to synthia_source_data.\n",
      "New PDF detected: C:/Users/koush/Synthia_Anaconda/src/synthia/notebooks/data\\Association of Engineers and Architects IFTPE Local 21 Units 4142 MOA.pdf\n",
      "File C:/Users/koush/Synthia_Anaconda/src/synthia/notebooks/data\\Association of Engineers and Architects IFTPE Local 21 Units 4142 MOA.pdf uploaded to synthia_source_data.\n",
      "New PDF detected: C:/Users/koush/Synthia_Anaconda/src/synthia/notebooks/data\\Association of Legal Professionals of San Jose (ALP).pdf\n",
      "File C:/Users/koush/Synthia_Anaconda/src/synthia/notebooks/data\\Association of Legal Professionals of San Jose (ALP).pdf uploaded to synthia_source_data.\n",
      "New PDF detected: C:/Users/koush/Synthia_Anaconda/src/synthia/notebooks/data\\Association of Maintenance Supervisory Personnel IFPTE Local 21 (AMSP) MOA.pdf\n",
      "File C:/Users/koush/Synthia_Anaconda/src/synthia/notebooks/data\\Association of Maintenance Supervisory Personnel IFPTE Local 21 (AMSP) MOA.pdf uploaded to synthia_source_data.\n",
      "New PDF detected: C:/Users/koush/Synthia_Anaconda/src/synthia/notebooks/data\\City Association of Management Personnel IFPTE Local 21 (CAMP) MOA.pdf\n",
      "File C:/Users/koush/Synthia_Anaconda/src/synthia/notebooks/data\\City Association of Management Personnel IFPTE Local 21 (CAMP) MOA.pdf uploaded to synthia_source_data.\n",
      "New PDF detected: C:/Users/koush/Synthia_Anaconda/src/synthia/notebooks/data\\International Brotherhood of Electrical Workers (IBEW) Local No. 332 MOA.pdf\n",
      "File C:/Users/koush/Synthia_Anaconda/src/synthia/notebooks/data\\International Brotherhood of Electrical Workers (IBEW) Local No. 332 MOA.pdf uploaded to synthia_source_data.\n",
      "New PDF detected: C:/Users/koush/Synthia_Anaconda/src/synthia/notebooks/data\\Municipal Employees Federation (MEF) AFSCME Local 101 MOA.pdf\n",
      "File C:/Users/koush/Synthia_Anaconda/src/synthia/notebooks/data\\Municipal Employees Federation (MEF) AFSCME Local 101 MOA.pdf uploaded to synthia_source_data.\n",
      "New PDF detected: C:/Users/koush/Synthia_Anaconda/src/synthia/notebooks/data\\Municipal Employees Federation (MEF) Part Time Employee Reference Guide.pdf\n",
      "File C:/Users/koush/Synthia_Anaconda/src/synthia/notebooks/data\\Municipal Employees Federation (MEF) Part Time Employee Reference Guide.pdf uploaded to synthia_source_data.\n",
      "New PDF detected: C:/Users/koush/Synthia_Anaconda/src/synthia/notebooks/data\\Officers Transfer Policy.pdf\n",
      "File C:/Users/koush/Synthia_Anaconda/src/synthia/notebooks/data\\Officers Transfer Policy.pdf uploaded to synthia_source_data.\n",
      "New PDF detected: C:/Users/koush/Synthia_Anaconda/src/synthia/notebooks/data\\Overtime Staffing Plan.pdf\n",
      "File C:/Users/koush/Synthia_Anaconda/src/synthia/notebooks/data\\Overtime Staffing Plan.pdf uploaded to synthia_source_data.\n",
      "New PDF detected: C:/Users/koush/Synthia_Anaconda/src/synthia/notebooks/data\\POPRA 2023 MOA.pdf\n",
      "File C:/Users/koush/Synthia_Anaconda/src/synthia/notebooks/data\\POPRA 2023 MOA.pdf uploaded to synthia_source_data.\n",
      "New PDF detected: C:/Users/koush/Synthia_Anaconda/src/synthia/notebooks/data\\Promotional Memorandum of Agreement.pdf\n",
      "File C:/Users/koush/Synthia_Anaconda/src/synthia/notebooks/data\\Promotional Memorandum of Agreement.pdf uploaded to synthia_source_data.\n",
      "New PDF detected: C:/Users/koush/Synthia_Anaconda/src/synthia/notebooks/data\\Raj Resume.pdf\n",
      "File C:/Users/koush/Synthia_Anaconda/src/synthia/notebooks/data\\Raj Resume.pdf uploaded to synthia_source_data.\n",
      "New PDF detected: C:/Users/koush/Synthia_Anaconda/src/synthia/notebooks/data\\San Jos Fire Fighters - International Association of Firefighters (IAFF) Local 230 MOA.pdf\n",
      "File C:/Users/koush/Synthia_Anaconda/src/synthia/notebooks/data\\San Jos Fire Fighters - International Association of Firefighters (IAFF) Local 230 MOA.pdf uploaded to synthia_source_data.\n",
      "New PDF detected: C:/Users/koush/Synthia_Anaconda/src/synthia/notebooks/data\\San Jose Police Officers Association (POA) MOA.pdf\n",
      "File C:/Users/koush/Synthia_Anaconda/src/synthia/notebooks/data\\San Jose Police Officers Association (POA) MOA.pdf uploaded to synthia_source_data.\n",
      "New PDF detected: C:/Users/koush/Synthia_Anaconda/src/synthia/notebooks/data\\Sergeants Transfer Policy.pdf\n",
      "File C:/Users/koush/Synthia_Anaconda/src/synthia/notebooks/data\\Sergeants Transfer Policy.pdf uploaded to synthia_source_data.\n",
      "New PDF detected: C:/Users/koush/Synthia_Anaconda/src/synthia/notebooks/data\\Tentative Agreement - Peace Officer Park Ranger Association (POPRA).pdf\n",
      "File C:/Users/koush/Synthia_Anaconda/src/synthia/notebooks/data\\Tentative Agreement - Peace Officer Park Ranger Association (POPRA).pdf uploaded to synthia_source_data.\n",
      "New PDF detected: C:/Users/koush/Synthia_Anaconda/src/synthia/notebooks/data\\The International Union of Operating Engineers Local No. 3 (OE3) MOA.pdf\n",
      "File C:/Users/koush/Synthia_Anaconda/src/synthia/notebooks/data\\The International Union of Operating Engineers Local No. 3 (OE3) MOA.pdf uploaded to synthia_source_data.\n",
      "Watcher stopped\n"
     ]
    }
   ],
   "source": [
    "import time\n",
    "from watchdog.observers import Observer\n",
    "from watchdog.events import FileSystemEventHandler\n",
    "from google.cloud import storage\n",
    "from google.oauth2 import service_account\n",
    "\n",
    "class Watcher:\n",
    "    DIRECTORY_TO_WATCH = DIRECTORY_TO_WATCH\n",
    "\n",
    "    def __init__(self):\n",
    "        self.observer = Observer()\n",
    "        self.running = True\n",
    "\n",
    "    def run(self):\n",
    "        event_handler = Handler()\n",
    "        self.observer.schedule(event_handler, self.DIRECTORY_TO_WATCH, recursive=True)\n",
    "        self.observer.start()\n",
    "\n",
    "        try:\n",
    "            while self.running:\n",
    "                time.sleep(1)\n",
    "        except KeyboardInterrupt:\n",
    "            self.stop()\n",
    "        except Exception as e:\n",
    "            print(f\"An error occurred: {e}\")\n",
    "            self.stop()\n",
    "\n",
    "    def stop(self):\n",
    "        self.observer.stop()\n",
    "        self.observer.join()\n",
    "        self.running = False\n",
    "        print(\"Watcher stopped\")\n",
    "\n",
    "class Handler(FileSystemEventHandler):\n",
    "    @staticmethod\n",
    "    def on_any_event(event):\n",
    "        if event.is_directory or not event.event_type == 'created':\n",
    "            return None\n",
    "\n",
    "        if event.src_path.endswith('.pdf'):\n",
    "            print(f\"New PDF detected: {event.src_path}\")\n",
    "            upload_to_gcs(event.src_path)\n",
    "\n",
    "def upload_to_gcs(file_path):\n",
    "    # Configure GCS client\n",
    "    credentials = service_account.Credentials.from_service_account_file(SERVICE_ACCOUNT_KEY)\n",
    "    client = storage.Client(credentials=credentials, project=GCP_PROJECT_ID)\n",
    "\n",
    "    bucket_name = GCS_BUCKET_NAME\n",
    "    bucket = client.bucket(bucket_name)\n",
    "\n",
    "    # Set the name of the file in the bucket\n",
    "    blob = bucket.blob(file_path.split('\\\\')[-1])\n",
    "\n",
    "    try:\n",
    "        blob.upload_from_filename(file_path)\n",
    "        print(f'File {file_path} uploaded to {bucket_name}.')\n",
    "    except Exception as e:\n",
    "        print(f'Failed to upload {file_path} to GCS: {e}')\n",
    "\n",
    "if __name__ == '__main__':\n",
    "    w = Watcher()\n",
    "    w.run()"
   ]
  }
 ],
 "metadata": {
  "kernelspec": {
   "display_name": ".venv",
   "language": "python",
   "name": "python3"
  },
  "language_info": {
   "codemirror_mode": {
    "name": "ipython",
    "version": 3
   },
   "file_extension": ".py",
   "mimetype": "text/x-python",
   "name": "python",
   "nbconvert_exporter": "python",
   "pygments_lexer": "ipython3",
   "version": "3.11.5"
  }
 },
 "nbformat": 4,
 "nbformat_minor": 2
}
