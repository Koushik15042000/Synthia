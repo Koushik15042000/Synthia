{
 "cells": [
  {
   "cell_type": "code",
   "execution_count": 49,
   "metadata": {},
   "outputs": [],
   "source": [
    "import pandas as pd\n",
    "import requests\n",
    "from bs4 import BeautifulSoup\n",
    "import os\n",
    "import re\n",
    "from urllib.parse import urljoin\n",
    "import time\n",
    "import string"
   ]
  },
  {
   "cell_type": "code",
   "execution_count": 50,
   "metadata": {},
   "outputs": [],
   "source": [
    "# Specify the Metadata File Path\n",
    "file_path = './data/moa_metadata.csv'\n",
    "\n",
    "# Read the CSV file\n",
    "moa_metadata = pd.read_csv(file_path)\n",
    "\n",
    "# Extract the MOA_URL links into a list\n",
    "moa_url_list = moa_metadata['Page_URL'].tolist()"
   ]
  },
  {
   "cell_type": "code",
   "execution_count": 51,
   "metadata": {},
   "outputs": [
    {
     "data": {
      "text/plain": [
       "['https://www.sanjoseca.gov/your-government/departments-offices/office-of-the-city-manager/employee-relations/labor-relations-information/bargaining-units-labor-contract-info/abmei',\n",
       " 'https://www.sanjoseca.gov/your-government/departments-offices/office-of-the-city-manager/employee-relations/labor-relations-information/bargaining-units-labor-contract-info/aea',\n",
       " 'https://www.sanjoseca.gov/your-government/departments-offices/office-of-the-city-manager/employee-relations/labor-relations-information/bargaining-units-labor-contract-info/alp',\n",
       " 'https://www.sanjoseca.gov/your-government/departments-offices/office-of-the-city-manager/employee-relations/labor-relations-information/bargaining-units-labor-contract-info/amsp',\n",
       " 'https://www.sanjoseca.gov/your-government/departments-offices/office-of-the-city-manager/employee-relations/labor-relations-information/bargaining-units-labor-contract-info/camp',\n",
       " 'https://www.sanjoseca.gov/your-government/departments-offices/office-of-the-city-manager/employee-relations/labor-relations-information/bargaining-units-labor-contract-info/iaff',\n",
       " 'https://www.sanjoseca.gov/your-government/departments-offices/office-of-the-city-manager/employee-relations/labor-relations-information/bargaining-units-labor-contract-info/ibew',\n",
       " 'https://www.sanjoseca.gov/your-government/departments-offices/office-of-the-city-manager/employee-relations/labor-relations-information/bargaining-units-labor-contract-info/mef',\n",
       " 'https://www.sanjoseca.gov/your-government/departments-offices/office-of-the-city-manager/employee-relations/labor-relations-information/bargaining-units-labor-contract-info/oe-3',\n",
       " 'https://www.sanjoseca.gov/your-government/departments-offices/office-of-the-city-manager/employee-relations/labor-relations-information/bargaining-units-labor-contract-info/sjpda',\n",
       " 'https://www.sanjoseca.gov/your-government/departments-offices/office-of-the-city-manager/employee-relations/labor-relations-information/bargaining-units-labor-contract-info/poa',\n",
       " 'https://www.sanjoseca.gov/your-government/departments-offices/office-of-the-city-manager/employee-relations/labor-relations-information/bargaining-units-labor-contract-info/popra']"
      ]
     },
     "execution_count": 51,
     "metadata": {},
     "output_type": "execute_result"
    }
   ],
   "source": [
    "moa_url_list"
   ]
  },
  {
   "cell_type": "code",
   "execution_count": 52,
   "metadata": {},
   "outputs": [],
   "source": [
    "# Function to sanitize filenames\n",
    "def sanitize_filename(filename):\n",
    "    valid_chars = \"-_.() %s%s\" % (string.ascii_letters, string.digits)\n",
    "    return ''.join(c for c in filename if c in valid_chars)"
   ]
  },
  {
   "cell_type": "code",
   "execution_count": 53,
   "metadata": {},
   "outputs": [],
   "source": [
    "# Function to download PDF from a given URL\n",
    "def download_pdf(url, base_url, save_path, session):\n",
    "    url = urljoin(base_url, url)\n",
    "    filename = sanitize_filename(save_path) + '.pdf'\n",
    "    full_save_path = os.path.join(pdf_directory, filename)\n",
    "\n",
    "    response = session.get(url, stream=True)\n",
    "    if response.status_code == 200:\n",
    "        with open(full_save_path, 'wb') as f:\n",
    "            for chunk in response.iter_content(chunk_size=8192):\n",
    "                f.write(chunk)\n",
    "        print(f\"PDF downloaded: {full_save_path}\")\n",
    "    else:\n",
    "        print(f\"Failed to download PDF from {url} - Status Code: {response.status_code}\")"
   ]
  },
  {
   "cell_type": "code",
   "execution_count": 54,
   "metadata": {},
   "outputs": [],
   "source": [
    "# Directory to save PDFs\n",
    "pdf_directory = './data/'\n",
    "if not os.path.exists(pdf_directory):\n",
    "    os.makedirs(pdf_directory)\n",
    "\n",
    "# Base URL\n",
    "base_url = 'https://www.sanjoseca.gov'"
   ]
  },
  {
   "cell_type": "code",
   "execution_count": 55,
   "metadata": {},
   "outputs": [
    {
     "name": "stdout",
     "output_type": "stream",
     "text": [
      "PDF downloaded: ./data/Association of Building Mechanical and Electrical Inspectors (ABMEI) MOA.pdf\n",
      "PDF downloaded: ./data/Association of Building Mechanical and Electrical Inspectors (ABMEI) MOA.pdf\n",
      "PDF downloaded: ./data/Association of Engineers and Architects IFTPE Local 21 Units 4142 MOA.pdf\n",
      "PDF downloaded: ./data/Association of Engineers and Architects IFPTE Local 21 Unit 43 MOA.pdf\n",
      "PDF downloaded: ./data/Association of Legal Professionals of San Jose (ALP).pdf\n",
      "PDF downloaded: ./data/Association of Legal Professionals of San Jose (ALP).pdf\n",
      "PDF downloaded: ./data/Association of Maintenance Supervisory Personnel IFPTE Local 21 (AMSP) MOA.pdf\n",
      "PDF downloaded: ./data/City Association of Management Personnel IFPTE Local 21 (CAMP) MOA.pdf\n",
      "PDF downloaded: ./data/San Jos Fire Fighters - International Association of Firefighters (IAFF) Local 230 MOA.pdf\n",
      "PDF downloaded: ./data/San Jos Fire Fighters - International Association of Firefighters (IAFF) Local 230 MOA.pdf\n",
      "PDF downloaded: ./data/International Brotherhood of Electrical Workers (IBEW) Local No. 332 MOA.pdf\n",
      "PDF downloaded: ./data/International Brotherhood of Electrical Workers (IBEW) Local No. 332 MOA.pdf\n",
      "PDF downloaded: ./data/Municipal Employees Federation (MEF) AFSCME Local 101 MOA.pdf\n",
      "PDF downloaded: ./data/Municipal Employees Federation (MEF) Part Time Employee Reference Guide.pdf\n",
      "PDF downloaded: ./data/The International Union of Operating Engineers Local No. 3 (OE3) MOA.pdf\n",
      "PDF downloaded: ./data/The International Union of Operating Engineers Local No. 3 (OE3) MOA.pdf\n",
      "PDF downloaded: ./data/Municipal Employees Federation (MEF) AFSCME Local 101 MOA.pdf\n",
      "PDF downloaded: ./data/Municipal Employees Federation (MEF) AFSCME Local 101 MOA.pdf\n",
      "PDF downloaded: ./data/San Jose Police Officers Association (POA) MOA.pdf\n",
      "PDF downloaded: ./data/Promotional Memorandum of Agreement.pdf\n",
      "PDF downloaded: ./data/Sergeants Transfer Policy.pdf\n",
      "PDF downloaded: ./data/Officers Transfer Policy.pdf\n",
      "PDF downloaded: ./data/Overtime Staffing Plan.pdf\n",
      "PDF downloaded: ./data/Article 39 - Exempt Officers and Sergeants Modified Duty Program.pdf\n",
      "PDF downloaded: ./data/San Jose Police Officers Association (POA) MOA.pdf\n",
      "PDF downloaded: ./data/Promotional Memorandum of Agreement.pdf\n",
      "PDF downloaded: ./data/Sergeants Transfer Policy.pdf\n",
      "PDF downloaded: ./data/Officers Transfer Policy.pdf\n",
      "PDF downloaded: ./data/Overtime Staffing Plan.pdf\n",
      "PDF downloaded: ./data/Article 39 - Exempt Officers and Sergeants Modified Duty Program.pdf\n",
      "PDF downloaded: ./data/Tentative Agreement - Peace Officer Park Ranger Association (POPRA).pdf\n"
     ]
    }
   ],
   "source": [
    "# Start a session for requests\n",
    "session = requests.Session()\n",
    "session.headers.update({\n",
    "    'User-Agent': 'Mozilla/5.0 (Windows NT 10.0; Win64; x64) AppleWebKit/537.36 (KHTML, like Gecko) Chrome/58.0.3029.110 Safari/537.3'\n",
    "})\n",
    "\n",
    "# Regex pattern for matching 'Union Contract' in a case-insensitive manner\n",
    "pattern = re.compile('union contract', re.IGNORECASE)\n",
    "\n",
    "# Iterate over each MOA_URL\n",
    "for moa_url in moa_url_list:\n",
    "    try:\n",
    "        response = session.get(moa_url)\n",
    "        if response.status_code == 200:\n",
    "            soup = BeautifulSoup(response.text, 'html.parser')\n",
    "\n",
    "            # Find all potential headings or paragraphs\n",
    "            potential_headings = soup.find_all(['h1', 'h2', 'h3', 'h4', 'h5', 'h6', 'p'], string=pattern)\n",
    "\n",
    "            for heading in potential_headings:\n",
    "                next_siblings = heading.find_next_siblings(['p', 'ul'])\n",
    "                for sibling in next_siblings:\n",
    "                    if sibling.name == 'ul':\n",
    "                        for li in sibling.find_all('li'):\n",
    "                            a_tag = li.find('a')\n",
    "                            if a_tag and a_tag.get('href'):\n",
    "                                pdf_url = a_tag.get('href')\n",
    "                                pdf_text = a_tag.get_text(strip=True)\n",
    "                                download_pdf(pdf_url, base_url, pdf_text, session)\n",
    "                        break  # Break after processing each <ul> associated with the heading\n",
    "\n",
    "            # Sleep between requests\n",
    "            time.sleep(1)\n",
    "        else:\n",
    "            print(f\"Failed to get {moa_url} - Status Code: {response.status_code}\")\n",
    "            time.sleep(5)\n",
    "    except Exception as e:\n",
    "        print(f\"Error processing {moa_url}: {e}\")\n",
    "        time.sleep(10)"
   ]
  }
 ],
 "metadata": {
  "kernelspec": {
   "display_name": ".venv",
   "language": "python",
   "name": "python3"
  },
  "language_info": {
   "codemirror_mode": {
    "name": "ipython",
    "version": 3
   },
   "file_extension": ".py",
   "mimetype": "text/x-python",
   "name": "python",
   "nbconvert_exporter": "python",
   "pygments_lexer": "ipython3",
   "version": "3.11.5"
  }
 },
 "nbformat": 4,
 "nbformat_minor": 2
}
