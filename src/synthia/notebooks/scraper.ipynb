{
 "cells": [
  {
   "cell_type": "code",
   "execution_count": null,
   "metadata": {},
   "outputs": [],
   "source": [
    "import sys\n",
    "print(sys.executable)"
   ]
  },
  {
   "cell_type": "code",
   "execution_count": 34,
   "metadata": {},
   "outputs": [],
   "source": [
    "import requests\n",
    "from bs4 import BeautifulSoup\n",
    "import pandas as pd"
   ]
  },
  {
   "cell_type": "code",
   "execution_count": 35,
   "metadata": {},
   "outputs": [],
   "source": [
    "# URL of the page to scrape\n",
    "url = \"https://www.sanjoseca.gov/your-government/departments-offices/office-of-the-city-manager/employee-relations/labor-relations-information\""
   ]
  },
  {
   "cell_type": "code",
   "execution_count": 36,
   "metadata": {},
   "outputs": [],
   "source": [
    "# Fetch the webpage\n",
    "response = requests.get(url)\n",
    "\n",
    "# Initialize a dictionary to store the URLs and their anchor text\n",
    "url_dict = {}"
   ]
  },
  {
   "cell_type": "code",
   "execution_count": 37,
   "metadata": {},
   "outputs": [
    {
     "name": "stdout",
     "output_type": "stream",
     "text": [
      "Number of rows found: 14\n"
     ]
    }
   ],
   "source": [
    "# Check if the request was successful\n",
    "if response.status_code == 200:\n",
    "    # Parse the HTML content\n",
    "    soup = BeautifulSoup(response.text, 'html.parser')\n",
    "\n",
    "    # Find the table - adjust the selector as needed\n",
    "    table = soup.find('table')\n",
    "\n",
    "    # Check if the table was found\n",
    "    if table:\n",
    "        # Extract all rows from the table\n",
    "        rows = table.find_all('tr')\n",
    "        print(f\"Number of rows found: {len(rows)}\")  # Diagnostic print\n",
    "\n",
    "        # Loop through rows to find the URLs\n",
    "        for row in rows:\n",
    "            cells = row.find_all('td')\n",
    "            if cells and len(cells) > 0:\n",
    "                link = cells[0].find('a')\n",
    "                if link and 'href' in link.attrs:\n",
    "                    # Store the URL and the anchor text in the dictionary\n",
    "                    url_dict[link.text.strip()] = link['href']\n",
    "    else:\n",
    "        print(\"Table not found.\")\n",
    "else:\n",
    "    print(\"Failed to fetch the webpage.\")"
   ]
  },
  {
   "cell_type": "code",
   "execution_count": 38,
   "metadata": {},
   "outputs": [
    {
     "data": {
      "text/plain": [
       "{'Association of Building, Mechanical and Electrical Inspectors': 'https://www.sanjoseca.gov/your-government/departments-offices/office-of-the-city-manager/employee-relations/labor-relations-information/bargaining-units-labor-contract-info/abmei',\n",
       " 'Association of Engineers and Architects, IFPTE, Local 21': 'https://www.sanjoseca.gov/your-government/departments-offices/office-of-the-city-manager/employee-relations/labor-relations-information/bargaining-units-labor-contract-info/aea',\n",
       " 'Association of Legal Professionals': 'https://www.sanjoseca.gov/your-government/departments-offices/office-of-the-city-manager/employee-relations/labor-relations-information/bargaining-units-labor-contract-info/alp',\n",
       " 'Association of Maintenance Supervisory Personnel, IFPTE Local 21': 'https://www.sanjoseca.gov/your-government/departments-offices/office-of-the-city-manager/employee-relations/labor-relations-information/bargaining-units-labor-contract-info/amsp',\n",
       " 'City Association of Management Personnel, IFPTE, Local 21': 'https://www.sanjoseca.gov/your-government/departments-offices/office-of-the-city-manager/employee-relations/labor-relations-information/bargaining-units-labor-contract-info/camp',\n",
       " 'International Association of Firefighters, Local 230': 'https://www.sanjoseca.gov/your-government/departments-offices/office-of-the-city-manager/employee-relations/labor-relations-information/bargaining-units-labor-contract-info/iaff',\n",
       " 'International Brotherhood of Electrical Workers, Local No. 332': 'https://www.sanjoseca.gov/your-government/departments-offices/office-of-the-city-manager/employee-relations/labor-relations-information/bargaining-units-labor-contract-info/ibew',\n",
       " 'Municipal Employees’ Federation AFSCME, Local No. 101': 'https://www.sanjoseca.gov/your-government/departments-offices/office-of-the-city-manager/employee-relations/labor-relations-information/bargaining-units-labor-contract-info/mef',\n",
       " 'International Union of Operating Engineers, Local No. 3': 'https://www.sanjoseca.gov/your-government/departments-offices/office-of-the-city-manager/employee-relations/labor-relations-information/bargaining-units-labor-contract-info/oe-3',\n",
       " \"San Jose Police Dispatchers' Association\": 'https://www.sanjoseca.gov/your-government/departments-offices/office-of-the-city-manager/employee-relations/labor-relations-information/bargaining-units-labor-contract-info/sjpda',\n",
       " 'San José Police Officers’ Association': 'https://www.sanjoseca.gov/your-government/departments-offices/office-of-the-city-manager/employee-relations/labor-relations-information/bargaining-units-labor-contract-info/poa',\n",
       " 'Peace Officer Park Ranger Association': 'https://www.sanjoseca.gov/your-government/departments-offices/office-of-the-city-manager/employee-relations/labor-relations-information/bargaining-units-labor-contract-info/popra'}"
      ]
     },
     "execution_count": 38,
     "metadata": {},
     "output_type": "execute_result"
    }
   ],
   "source": [
    "url_dict"
   ]
  },
  {
   "cell_type": "code",
   "execution_count": 40,
   "metadata": {},
   "outputs": [],
   "source": [
    "# Convert the dictionary to a DataFrame\n",
    "moa_metadata = pd.DataFrame(list(url_dict.items()), columns=['Bargaining_Unit', 'Page_URL'])"
   ]
  },
  {
   "cell_type": "code",
   "execution_count": 41,
   "metadata": {},
   "outputs": [
    {
     "data": {
      "text/html": [
       "<div>\n",
       "<style scoped>\n",
       "    .dataframe tbody tr th:only-of-type {\n",
       "        vertical-align: middle;\n",
       "    }\n",
       "\n",
       "    .dataframe tbody tr th {\n",
       "        vertical-align: top;\n",
       "    }\n",
       "\n",
       "    .dataframe thead th {\n",
       "        text-align: right;\n",
       "    }\n",
       "</style>\n",
       "<table border=\"1\" class=\"dataframe\">\n",
       "  <thead>\n",
       "    <tr style=\"text-align: right;\">\n",
       "      <th></th>\n",
       "      <th>Bargaining_Unit</th>\n",
       "      <th>Page_URL</th>\n",
       "    </tr>\n",
       "  </thead>\n",
       "  <tbody>\n",
       "    <tr>\n",
       "      <th>0</th>\n",
       "      <td>Association of Building, Mechanical and Electr...</td>\n",
       "      <td>https://www.sanjoseca.gov/your-government/depa...</td>\n",
       "    </tr>\n",
       "    <tr>\n",
       "      <th>1</th>\n",
       "      <td>Association of Engineers and Architects, IFPTE...</td>\n",
       "      <td>https://www.sanjoseca.gov/your-government/depa...</td>\n",
       "    </tr>\n",
       "    <tr>\n",
       "      <th>2</th>\n",
       "      <td>Association of Legal Professionals</td>\n",
       "      <td>https://www.sanjoseca.gov/your-government/depa...</td>\n",
       "    </tr>\n",
       "    <tr>\n",
       "      <th>3</th>\n",
       "      <td>Association of Maintenance Supervisory Personn...</td>\n",
       "      <td>https://www.sanjoseca.gov/your-government/depa...</td>\n",
       "    </tr>\n",
       "    <tr>\n",
       "      <th>4</th>\n",
       "      <td>City Association of Management Personnel, IFPT...</td>\n",
       "      <td>https://www.sanjoseca.gov/your-government/depa...</td>\n",
       "    </tr>\n",
       "    <tr>\n",
       "      <th>5</th>\n",
       "      <td>International Association of Firefighters, Loc...</td>\n",
       "      <td>https://www.sanjoseca.gov/your-government/depa...</td>\n",
       "    </tr>\n",
       "    <tr>\n",
       "      <th>6</th>\n",
       "      <td>International Brotherhood of Electrical Worker...</td>\n",
       "      <td>https://www.sanjoseca.gov/your-government/depa...</td>\n",
       "    </tr>\n",
       "    <tr>\n",
       "      <th>7</th>\n",
       "      <td>Municipal Employees’ Federation AFSCME, Local ...</td>\n",
       "      <td>https://www.sanjoseca.gov/your-government/depa...</td>\n",
       "    </tr>\n",
       "    <tr>\n",
       "      <th>8</th>\n",
       "      <td>International Union of Operating Engineers, Lo...</td>\n",
       "      <td>https://www.sanjoseca.gov/your-government/depa...</td>\n",
       "    </tr>\n",
       "    <tr>\n",
       "      <th>9</th>\n",
       "      <td>San Jose Police Dispatchers' Association</td>\n",
       "      <td>https://www.sanjoseca.gov/your-government/depa...</td>\n",
       "    </tr>\n",
       "    <tr>\n",
       "      <th>10</th>\n",
       "      <td>San José Police Officers’ Association</td>\n",
       "      <td>https://www.sanjoseca.gov/your-government/depa...</td>\n",
       "    </tr>\n",
       "    <tr>\n",
       "      <th>11</th>\n",
       "      <td>Peace Officer Park Ranger Association</td>\n",
       "      <td>https://www.sanjoseca.gov/your-government/depa...</td>\n",
       "    </tr>\n",
       "  </tbody>\n",
       "</table>\n",
       "</div>"
      ],
      "text/plain": [
       "                                      Bargaining_Unit  \\\n",
       "0   Association of Building, Mechanical and Electr...   \n",
       "1   Association of Engineers and Architects, IFPTE...   \n",
       "2                  Association of Legal Professionals   \n",
       "3   Association of Maintenance Supervisory Personn...   \n",
       "4   City Association of Management Personnel, IFPT...   \n",
       "5   International Association of Firefighters, Loc...   \n",
       "6   International Brotherhood of Electrical Worker...   \n",
       "7   Municipal Employees’ Federation AFSCME, Local ...   \n",
       "8   International Union of Operating Engineers, Lo...   \n",
       "9            San Jose Police Dispatchers' Association   \n",
       "10              San José Police Officers’ Association   \n",
       "11              Peace Officer Park Ranger Association   \n",
       "\n",
       "                                             Page_URL  \n",
       "0   https://www.sanjoseca.gov/your-government/depa...  \n",
       "1   https://www.sanjoseca.gov/your-government/depa...  \n",
       "2   https://www.sanjoseca.gov/your-government/depa...  \n",
       "3   https://www.sanjoseca.gov/your-government/depa...  \n",
       "4   https://www.sanjoseca.gov/your-government/depa...  \n",
       "5   https://www.sanjoseca.gov/your-government/depa...  \n",
       "6   https://www.sanjoseca.gov/your-government/depa...  \n",
       "7   https://www.sanjoseca.gov/your-government/depa...  \n",
       "8   https://www.sanjoseca.gov/your-government/depa...  \n",
       "9   https://www.sanjoseca.gov/your-government/depa...  \n",
       "10  https://www.sanjoseca.gov/your-government/depa...  \n",
       "11  https://www.sanjoseca.gov/your-government/depa...  "
      ]
     },
     "execution_count": 41,
     "metadata": {},
     "output_type": "execute_result"
    }
   ],
   "source": [
    "moa_metadata"
   ]
  },
  {
   "cell_type": "code",
   "execution_count": 42,
   "metadata": {},
   "outputs": [],
   "source": [
    "# Specify the file path where you want to save the CSV\n",
    "file_path = './data/moa_metadata.csv'\n",
    "\n",
    "# Export the DataFrame to a CSV file\n",
    "moa_metadata.to_csv(file_path, index=False)"
   ]
  }
 ],
 "metadata": {
  "kernelspec": {
   "display_name": ".venv",
   "language": "python",
   "name": "python3"
  },
  "language_info": {
   "codemirror_mode": {
    "name": "ipython",
    "version": 3
   },
   "file_extension": ".py",
   "mimetype": "text/x-python",
   "name": "python",
   "nbconvert_exporter": "python",
   "pygments_lexer": "ipython3",
   "version": "3.11.5"
  }
 },
 "nbformat": 4,
 "nbformat_minor": 2
}
